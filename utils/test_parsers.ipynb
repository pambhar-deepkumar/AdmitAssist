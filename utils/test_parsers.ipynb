{
 "cells": [
  {
   "cell_type": "code",
   "execution_count": 2,
   "metadata": {},
   "outputs": [],
   "source": [
    "from assessment_manager import AssessmentManager\n",
    "from markdown_parser import MarkdownLLMHelper"
   ]
  },
  {
   "cell_type": "code",
   "execution_count": 3,
   "metadata": {},
   "outputs": [],
   "source": [
    "parser =  MarkdownLLMHelper(r\"D:\\GenAI\\git\\AdmitAssist\\data\\example_1\\output\\example_1_course_catalogue_LMU_BSc_Informatics.md\")\n",
    "\n",
    "manager = AssessmentManager(\n",
    "        \"D:\\\\GenAI\\\\git\\\\AdmitAssist\\\\data\\\\course_requirements\\\\Assessment Format.json\",\n",
    "        \"D:\\\\GenAI\\\\git\\\\AdmitAssist\\\\data\\\\course_requirements\\\\MIE_Curricularanalyse_Information_Engineering_Template.xlsx\"\n",
    "    )"
   ]
  },
  {
   "cell_type": "code",
   "execution_count": null,
   "metadata": {},
   "outputs": [],
   "source": [
    "for module in manager:\n",
    "    print(f\"\\nModule: {module.name}\")\n",
    "    for row in module:\n",
    "        \n",
    "        print(f\"\\tProcessing: {row.name} ({row.credits} ECTS)\")\n",
    "        \n",
    "        \n",
    "        \n",
    "        if \"Informatik\" in (row.name or \"\"):\n",
    "            row.set_evaluation(True, \"Excellent performance\")\n",
    "\n",
    "# Save all changes to a new Excel file\n",
    "manager.save()"
   ]
  },
  {
   "cell_type": "markdown",
   "metadata": {},
   "source": [
    "# Excel "
   ]
  }
 ],
 "metadata": {
  "kernelspec": {
   "display_name": ".venv",
   "language": "python",
   "name": "python3"
  },
  "language_info": {
   "codemirror_mode": {
    "name": "ipython",
    "version": 3
   },
   "file_extension": ".py",
   "mimetype": "text/x-python",
   "name": "python",
   "nbconvert_exporter": "python",
   "pygments_lexer": "ipython3",
   "version": "3.11.9"
  }
 },
 "nbformat": 4,
 "nbformat_minor": 2
}
