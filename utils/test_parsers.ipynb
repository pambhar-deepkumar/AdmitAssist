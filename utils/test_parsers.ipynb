{
 "cells": [
  {
   "cell_type": "code",
   "execution_count": 1,
   "metadata": {},
   "outputs": [],
   "source": [
    "from assessment_manager import AssessmentManager\n",
    "from markdown_parser import MarkdownLLMHelper"
   ]
  },
  {
   "cell_type": "code",
   "execution_count": 2,
   "metadata": {},
   "outputs": [
    {
     "ename": "FileNotFoundError",
     "evalue": "[Errno 2] No such file or directory: 'D:\\\\GenAI\\\\git\\\\AdmitAssist\\\\data\\\\example_1\\\\output\\\\example_1_course_catalogue_LMU_BSc_Informatics.md'",
     "output_type": "error",
     "traceback": [
      "\u001b[0;31m---------------------------------------------------------------------------\u001b[0m",
      "\u001b[0;31mFileNotFoundError\u001b[0m                         Traceback (most recent call last)",
      "Cell \u001b[0;32mIn[2], line 1\u001b[0m\n\u001b[0;32m----> 1\u001b[0m parser \u001b[38;5;241m=\u001b[39m  \u001b[43mMarkdownLLMHelper\u001b[49m\u001b[43m(\u001b[49m\u001b[38;5;124;43mr\u001b[39;49m\u001b[38;5;124;43m\"\u001b[39;49m\u001b[38;5;124;43mD:\u001b[39;49m\u001b[38;5;124;43m\\\u001b[39;49m\u001b[38;5;124;43mGenAI\u001b[39;49m\u001b[38;5;124;43m\\\u001b[39;49m\u001b[38;5;124;43mgit\u001b[39;49m\u001b[38;5;124;43m\\\u001b[39;49m\u001b[38;5;124;43mAdmitAssist\u001b[39;49m\u001b[38;5;124;43m\\\u001b[39;49m\u001b[38;5;124;43mdata\u001b[39;49m\u001b[38;5;124;43m\\\u001b[39;49m\u001b[38;5;124;43mexample_1\u001b[39;49m\u001b[38;5;124;43m\\\u001b[39;49m\u001b[38;5;124;43moutput\u001b[39;49m\u001b[38;5;124;43m\\\u001b[39;49m\u001b[38;5;124;43mexample_1_course_catalogue_LMU_BSc_Informatics.md\u001b[39;49m\u001b[38;5;124;43m\"\u001b[39;49m\u001b[43m)\u001b[49m\n\u001b[1;32m      2\u001b[0m manager \u001b[38;5;241m=\u001b[39m AssessmentManager(\n\u001b[1;32m      3\u001b[0m         \u001b[38;5;124m\"\u001b[39m\u001b[38;5;124m/Users/meet/Documents/python/projects/AdmitAssist/data/course_requirements/Assessment Format.json\u001b[39m\u001b[38;5;124m\"\u001b[39m,\n\u001b[1;32m      4\u001b[0m         \u001b[38;5;124m\"\u001b[39m\u001b[38;5;124m/Users/meet/Documents/python/projects/AdmitAssist/data/course_requirements/MIE_Curricularanalyse_Information_Engineering_Template.xlsx\u001b[39m\u001b[38;5;124m\"\u001b[39m\n\u001b[1;32m      5\u001b[0m     )\n",
      "File \u001b[0;32m~/Documents/python/projects/AdmitAssist/utils/markdown_parser.py:45\u001b[0m, in \u001b[0;36mMarkdownLLMHelper.__init__\u001b[0;34m(self, markdown_path)\u001b[0m\n\u001b[1;32m     40\u001b[0m \u001b[38;5;28;01mdef\u001b[39;00m\u001b[38;5;250m \u001b[39m\u001b[38;5;21m__init__\u001b[39m(\u001b[38;5;28mself\u001b[39m, markdown_path):\n\u001b[1;32m     41\u001b[0m \u001b[38;5;250m    \u001b[39m\u001b[38;5;124;03m\"\"\"\u001b[39;00m\n\u001b[1;32m     42\u001b[0m \u001b[38;5;124;03m    Initialize the helper by reading the Markdown file, converting it to HTML,\u001b[39;00m\n\u001b[1;32m     43\u001b[0m \u001b[38;5;124;03m    and parsing headings and corresponding content into a tree structure.\u001b[39;00m\n\u001b[1;32m     44\u001b[0m \u001b[38;5;124;03m    \"\"\"\u001b[39;00m\n\u001b[0;32m---> 45\u001b[0m     \u001b[38;5;28;01mwith\u001b[39;00m \u001b[38;5;28;43mopen\u001b[39;49m\u001b[43m(\u001b[49m\u001b[43mmarkdown_path\u001b[49m\u001b[43m,\u001b[49m\u001b[43m \u001b[49m\u001b[38;5;124;43m\"\u001b[39;49m\u001b[38;5;124;43mr\u001b[39;49m\u001b[38;5;124;43m\"\u001b[39;49m\u001b[43m,\u001b[49m\u001b[43m \u001b[49m\u001b[43mencoding\u001b[49m\u001b[38;5;241;43m=\u001b[39;49m\u001b[38;5;124;43m\"\u001b[39;49m\u001b[38;5;124;43mutf-8\u001b[39;49m\u001b[38;5;124;43m\"\u001b[39;49m\u001b[43m)\u001b[49m \u001b[38;5;28;01mas\u001b[39;00m f:\n\u001b[1;32m     46\u001b[0m         \u001b[38;5;28mself\u001b[39m\u001b[38;5;241m.\u001b[39m_markdown_text \u001b[38;5;241m=\u001b[39m f\u001b[38;5;241m.\u001b[39mread()\n\u001b[1;32m     48\u001b[0m     html \u001b[38;5;241m=\u001b[39m markdown\u001b[38;5;241m.\u001b[39mmarkdown(\u001b[38;5;28mself\u001b[39m\u001b[38;5;241m.\u001b[39m_markdown_text)\n",
      "\u001b[0;31mFileNotFoundError\u001b[0m: [Errno 2] No such file or directory: 'D:\\\\GenAI\\\\git\\\\AdmitAssist\\\\data\\\\example_1\\\\output\\\\example_1_course_catalogue_LMU_BSc_Informatics.md'"
     ]
    }
   ],
   "source": [
    "\n",
    "\n",
    "parser =  MarkdownLLMHelper(r\"D:\\GenAI\\git\\AdmitAssist\\data\\example_1\\output\\example_1_course_catalogue_LMU_BSc_Informatics.md\")\n",
    "manager = AssessmentManager(\n",
    "        \"/Users/meet/Documents/python/projects/AdmitAssist/data/course_requirements/Assessment Format.json\",\n",
    "        \"/Users/meet/Documents/python/projects/AdmitAssist/data/course_requirements/MIE_Curricularanalyse_Information_Engineering_Template.xlsx\"\n",
    "    )"
   ]
  },
  {
   "cell_type": "code",
   "execution_count": null,
   "metadata": {},
   "outputs": [],
   "source": [
    "for module in manager:\n",
    "    print(f\"\\nModule: {module.name}\")\n",
    "    for row in module:\n",
    "        \n",
    "        print(f\"Processing: {row.name} ({row.credits} ECTS)\")\n",
    "        \n",
    "        \n",
    "        \n",
    "        if \"Informatik\" in (row.name or \"\"):\n",
    "            row.set_evaluation(\"Pass\", \"Excellent performance\")\n",
    "\n",
    "# Save all changes to a new Excel file\n",
    "manager.save()"
   ]
  },
  {
   "cell_type": "markdown",
   "metadata": {},
   "source": [
    "# Excel "
   ]
  }
 ],
 "metadata": {
  "kernelspec": {
   "display_name": ".venv",
   "language": "python",
   "name": "python3"
  },
  "language_info": {
   "codemirror_mode": {
    "name": "ipython",
    "version": 3
   },
   "file_extension": ".py",
   "mimetype": "text/x-python",
   "name": "python",
   "nbconvert_exporter": "python",
   "pygments_lexer": "ipython3",
   "version": "3.10.8"
  }
 },
 "nbformat": 4,
 "nbformat_minor": 2
}
